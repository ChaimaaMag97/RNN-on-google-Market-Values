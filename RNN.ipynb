{
 "cells": [
  {
   "cell_type": "code",
   "execution_count": 1,
   "metadata": {},
   "outputs": [],
   "source": [
    "import numpy as np\n",
    "import matplotlib.pyplot as plt\n",
    "import pandas as pd"
   ]
  },
  {
   "cell_type": "code",
   "execution_count": 2,
   "metadata": {},
   "outputs": [],
   "source": [
    "dataset_train = pd.read_csv('Google_Stock_Price_Train.csv')"
   ]
  },
  {
   "cell_type": "code",
   "execution_count": 12,
   "metadata": {},
   "outputs": [],
   "source": [
    "training_set=dataset_train.iloc[:,1:2].values"
   ]
  },
  {
   "cell_type": "code",
   "execution_count": 13,
   "metadata": {},
   "outputs": [
    {
     "data": {
      "text/plain": [
       "array([[325.25],\n",
       "       [331.27],\n",
       "       [329.83],\n",
       "       ...,\n",
       "       [793.7 ],\n",
       "       [783.33],\n",
       "       [782.75]])"
      ]
     },
     "execution_count": 13,
     "metadata": {},
     "output_type": "execute_result"
    }
   ],
   "source": [
    "training_set"
   ]
  },
  {
   "cell_type": "code",
   "execution_count": 10,
   "metadata": {},
   "outputs": [],
   "source": [
    "from sklearn.preprocessing import MinMaxScaler"
   ]
  },
  {
   "cell_type": "code",
   "execution_count": 14,
   "metadata": {},
   "outputs": [],
   "source": [
    "mm=MinMaxScaler(feature_range=(0,1))"
   ]
  },
  {
   "cell_type": "code",
   "execution_count": 15,
   "metadata": {},
   "outputs": [],
   "source": [
    "training_set_scaled=mm.fit_transform(training_set)"
   ]
  },
  {
   "cell_type": "code",
   "execution_count": 17,
   "metadata": {},
   "outputs": [
    {
     "data": {
      "text/plain": [
       "1258"
      ]
     },
     "execution_count": 17,
     "metadata": {},
     "output_type": "execute_result"
    }
   ],
   "source": [
    "len(training_set_scaled)"
   ]
  },
  {
   "cell_type": "code",
   "execution_count": 20,
   "metadata": {},
   "outputs": [],
   "source": [
    "x_train=[]\n",
    "y_train=[]\n",
    "for i in range(60, 1258):\n",
    "    x_train.append(training_set_scaled[i-60:i, 0])\n",
    "    y_train.append(training_set_scaled[i, 0])\n",
    "x_train, y_train = np.array(x_train), np.array(y_train)"
   ]
  },
  {
   "cell_type": "code",
   "execution_count": 25,
   "metadata": {},
   "outputs": [
    {
     "data": {
      "text/plain": [
       "1198"
      ]
     },
     "execution_count": 25,
     "metadata": {},
     "output_type": "execute_result"
    }
   ],
   "source": [
    "len(y_train)"
   ]
  },
  {
   "cell_type": "code",
   "execution_count": 26,
   "metadata": {},
   "outputs": [],
   "source": [
    "x_train=np.reshape(x_train,(x_train.shape[0],x_train.shape[1],1))"
   ]
  },
  {
   "cell_type": "code",
   "execution_count": 27,
   "metadata": {},
   "outputs": [],
   "source": [
    "from keras.models import Sequential\n",
    "from keras.layers import Dense\n",
    "from keras.layers import LSTM\n",
    "from keras.layers import Dropout"
   ]
  },
  {
   "cell_type": "code",
   "execution_count": 28,
   "metadata": {},
   "outputs": [],
   "source": [
    "regressor=Sequential()"
   ]
  },
  {
   "cell_type": "code",
   "execution_count": 33,
   "metadata": {},
   "outputs": [
    {
     "data": {
      "text/plain": [
       "array([0.08581368])"
      ]
     },
     "execution_count": 33,
     "metadata": {},
     "output_type": "execute_result"
    }
   ],
   "source": [
    "x_train[0][0]"
   ]
  },
  {
   "cell_type": "code",
   "execution_count": 34,
   "metadata": {},
   "outputs": [],
   "source": [
    "regressor.add(LSTM(units=50,return_sequences=True,input_shape=(x_train.shape[1],1)))"
   ]
  },
  {
   "cell_type": "code",
   "execution_count": 36,
   "metadata": {},
   "outputs": [],
   "source": [
    "regressor.add(Dropout(0.2))"
   ]
  },
  {
   "cell_type": "code",
   "execution_count": 37,
   "metadata": {},
   "outputs": [],
   "source": [
    "regressor.add(LSTM(units=50,return_sequences=True))\n",
    "regressor.add(Dropout(0.2))"
   ]
  },
  {
   "cell_type": "code",
   "execution_count": 38,
   "metadata": {},
   "outputs": [],
   "source": [
    "regressor.add(LSTM(units=50,return_sequences=True))\n",
    "regressor.add(Dropout(0.2))"
   ]
  },
  {
   "cell_type": "code",
   "execution_count": 39,
   "metadata": {},
   "outputs": [],
   "source": [
    "regressor.add(LSTM(units=50,return_sequences=False))\n",
    "regressor.add(Dropout(0.2))"
   ]
  },
  {
   "cell_type": "code",
   "execution_count": 41,
   "metadata": {},
   "outputs": [],
   "source": [
    "regressor.add(Dense(units=1))"
   ]
  },
  {
   "cell_type": "code",
   "execution_count": 42,
   "metadata": {},
   "outputs": [],
   "source": [
    "regressor.compile(optimizer='adam',loss='mean_squared_error')"
   ]
  },
  {
   "cell_type": "code",
   "execution_count": 43,
   "metadata": {},
   "outputs": [
    {
     "name": "stdout",
     "output_type": "stream",
     "text": [
      "Epoch 1/100\n",
      "38/38 [==============================] - 5s 126ms/step - loss: 0.0422\n",
      "Epoch 2/100\n",
      "38/38 [==============================] - 5s 125ms/step - loss: 0.0065\n",
      "Epoch 3/100\n",
      "38/38 [==============================] - 5s 121ms/step - loss: 0.0062\n",
      "Epoch 4/100\n",
      "38/38 [==============================] - 5s 127ms/step - loss: 0.0061\n",
      "Epoch 5/100\n",
      "38/38 [==============================] - 5s 125ms/step - loss: 0.0049\n",
      "Epoch 6/100\n",
      "38/38 [==============================] - 5s 126ms/step - loss: 0.0049\n",
      "Epoch 7/100\n",
      "38/38 [==============================] - 4s 115ms/step - loss: 0.0047\n",
      "Epoch 8/100\n",
      "38/38 [==============================] - 4s 113ms/step - loss: 0.0047\n",
      "Epoch 9/100\n",
      "38/38 [==============================] - 4s 115ms/step - loss: 0.0050\n",
      "Epoch 10/100\n",
      "38/38 [==============================] - 4s 113ms/step - loss: 0.0046\n",
      "Epoch 11/100\n",
      "38/38 [==============================] - 4s 110ms/step - loss: 0.0038\n",
      "Epoch 12/100\n",
      "38/38 [==============================] - 4s 106ms/step - loss: 0.0043\n",
      "Epoch 13/100\n",
      "38/38 [==============================] - 5s 120ms/step - loss: 0.0049\n",
      "Epoch 14/100\n",
      "38/38 [==============================] - 4s 115ms/step - loss: 0.0048\n",
      "Epoch 15/100\n",
      "38/38 [==============================] - 5s 124ms/step - loss: 0.0036\n",
      "Epoch 16/100\n",
      "38/38 [==============================] - 5s 125ms/step - loss: 0.0036\n",
      "Epoch 17/100\n",
      "38/38 [==============================] - 5s 127ms/step - loss: 0.0041\n",
      "Epoch 18/100\n",
      "38/38 [==============================] - 5s 137ms/step - loss: 0.0038\n",
      "Epoch 19/100\n",
      "38/38 [==============================] - 5s 121ms/step - loss: 0.0035\n",
      "Epoch 20/100\n",
      "38/38 [==============================] - 5s 126ms/step - loss: 0.0035\n",
      "Epoch 21/100\n",
      "38/38 [==============================] - 5s 135ms/step - loss: 0.0036\n",
      "Epoch 22/100\n",
      "38/38 [==============================] - 5s 126ms/step - loss: 0.0038\n",
      "Epoch 23/100\n",
      "38/38 [==============================] - 4s 103ms/step - loss: 0.0032\n",
      "Epoch 24/100\n",
      "38/38 [==============================] - 4s 98ms/step - loss: 0.0035\n",
      "Epoch 25/100\n",
      "38/38 [==============================] - 5s 123ms/step - loss: 0.0033\n",
      "Epoch 26/100\n",
      "38/38 [==============================] - 5s 124ms/step - loss: 0.0035\n",
      "Epoch 27/100\n",
      "38/38 [==============================] - 4s 112ms/step - loss: 0.0032\n",
      "Epoch 28/100\n",
      "38/38 [==============================] - 5s 119ms/step - loss: 0.0032\n",
      "Epoch 29/100\n",
      "38/38 [==============================] - 5s 130ms/step - loss: 0.0032\n",
      "Epoch 30/100\n",
      "38/38 [==============================] - 5s 123ms/step - loss: 0.0028\n",
      "Epoch 31/100\n",
      "38/38 [==============================] - 5s 129ms/step - loss: 0.0031\n",
      "Epoch 32/100\n",
      "38/38 [==============================] - 5s 119ms/step - loss: 0.0030\n",
      "Epoch 33/100\n",
      "38/38 [==============================] - 5s 129ms/step - loss: 0.0029\n",
      "Epoch 34/100\n",
      "38/38 [==============================] - 5s 127ms/step - loss: 0.0028\n",
      "Epoch 35/100\n",
      "38/38 [==============================] - 5s 129ms/step - loss: 0.0032\n",
      "Epoch 36/100\n",
      "38/38 [==============================] - 5s 127ms/step - loss: 0.0029\n",
      "Epoch 37/100\n",
      "38/38 [==============================] - 5s 130ms/step - loss: 0.0027\n",
      "Epoch 38/100\n",
      "38/38 [==============================] - 5s 120ms/step - loss: 0.0026\n",
      "Epoch 39/100\n",
      "38/38 [==============================] - 5s 132ms/step - loss: 0.0032\n",
      "Epoch 40/100\n",
      "38/38 [==============================] - 5s 126ms/step - loss: 0.0026\n",
      "Epoch 41/100\n",
      "38/38 [==============================] - 5s 130ms/step - loss: 0.0028\n",
      "Epoch 42/100\n",
      "38/38 [==============================] - 5s 132ms/step - loss: 0.0030\n",
      "Epoch 43/100\n",
      "38/38 [==============================] - 5s 132ms/step - loss: 0.0026\n",
      "Epoch 44/100\n",
      "38/38 [==============================] - 5s 130ms/step - loss: 0.0025\n",
      "Epoch 45/100\n",
      "38/38 [==============================] - 5s 130ms/step - loss: 0.0025\n",
      "Epoch 46/100\n",
      "38/38 [==============================] - 5s 130ms/step - loss: 0.0024\n",
      "Epoch 47/100\n",
      "38/38 [==============================] - 5s 128ms/step - loss: 0.0026\n",
      "Epoch 48/100\n",
      "38/38 [==============================] - 4s 115ms/step - loss: 0.0027\n",
      "Epoch 49/100\n",
      "38/38 [==============================] - 4s 106ms/step - loss: 0.0021\n",
      "Epoch 50/100\n",
      "38/38 [==============================] - 4s 103ms/step - loss: 0.0022\n",
      "Epoch 51/100\n",
      "38/38 [==============================] - 4s 95ms/step - loss: 0.0023\n",
      "Epoch 52/100\n",
      "38/38 [==============================] - 4s 110ms/step - loss: 0.0025\n",
      "Epoch 53/100\n",
      "38/38 [==============================] - 5s 121ms/step - loss: 0.0024\n",
      "Epoch 54/100\n",
      "38/38 [==============================] - 4s 118ms/step - loss: 0.0024\n",
      "Epoch 55/100\n",
      "38/38 [==============================] - 6s 148ms/step - loss: 0.0023\n",
      "Epoch 56/100\n",
      "38/38 [==============================] - 5s 125ms/step - loss: 0.0025\n",
      "Epoch 57/100\n",
      "38/38 [==============================] - 5s 126ms/step - loss: 0.0021\n",
      "Epoch 58/100\n",
      "38/38 [==============================] - 5s 119ms/step - loss: 0.0021\n",
      "Epoch 59/100\n",
      "38/38 [==============================] - 4s 117ms/step - loss: 0.0023\n",
      "Epoch 60/100\n",
      "38/38 [==============================] - 5s 126ms/step - loss: 0.0022\n",
      "Epoch 61/100\n",
      "38/38 [==============================] - 5s 129ms/step - loss: 0.0023\n",
      "Epoch 62/100\n",
      "38/38 [==============================] - 5s 125ms/step - loss: 0.0021\n",
      "Epoch 63/100\n",
      "38/38 [==============================] - 5s 125ms/step - loss: 0.0023\n",
      "Epoch 64/100\n",
      "38/38 [==============================] - 5s 131ms/step - loss: 0.0020\n",
      "Epoch 65/100\n",
      "38/38 [==============================] - 5s 129ms/step - loss: 0.0020\n",
      "Epoch 66/100\n",
      "38/38 [==============================] - 5s 129ms/step - loss: 0.0021\n",
      "Epoch 67/100\n",
      "38/38 [==============================] - 5s 131ms/step - loss: 0.0020\n",
      "Epoch 68/100\n",
      "38/38 [==============================] - 5s 126ms/step - loss: 0.0023\n",
      "Epoch 69/100\n",
      "38/38 [==============================] - 5s 135ms/step - loss: 0.0019\n",
      "Epoch 70/100\n",
      "38/38 [==============================] - 5s 131ms/step - loss: 0.0019\n",
      "Epoch 71/100\n",
      "38/38 [==============================] - 5s 130ms/step - loss: 0.0018\n",
      "Epoch 72/100\n",
      "38/38 [==============================] - 5s 127ms/step - loss: 0.0022\n",
      "Epoch 73/100\n",
      "38/38 [==============================] - 5s 121ms/step - loss: 0.0019\n",
      "Epoch 74/100\n",
      "38/38 [==============================] - 5s 121ms/step - loss: 0.0020\n",
      "Epoch 75/100\n",
      "38/38 [==============================] - 5s 123ms/step - loss: 0.0018\n",
      "Epoch 76/100\n",
      "38/38 [==============================] - 5s 124ms/step - loss: 0.0017\n",
      "Epoch 77/100\n",
      "38/38 [==============================] - 5s 127ms/step - loss: 0.0019\n",
      "Epoch 78/100\n",
      "38/38 [==============================] - 5s 129ms/step - loss: 0.0018\n",
      "Epoch 79/100\n",
      "38/38 [==============================] - 5s 123ms/step - loss: 0.0017\n",
      "Epoch 80/100\n",
      "38/38 [==============================] - 5s 123ms/step - loss: 0.0017\n",
      "Epoch 81/100\n",
      "38/38 [==============================] - 5s 129ms/step - loss: 0.0017\n",
      "Epoch 82/100\n",
      "38/38 [==============================] - 4s 106ms/step - loss: 0.0018\n",
      "Epoch 83/100\n",
      "38/38 [==============================] - 5s 121ms/step - loss: 0.0016\n",
      "Epoch 84/100\n",
      "38/38 [==============================] - 5s 120ms/step - loss: 0.0016\n",
      "Epoch 85/100\n",
      "38/38 [==============================] - 4s 117ms/step - loss: 0.0017\n",
      "Epoch 86/100\n",
      "38/38 [==============================] - 5s 121ms/step - loss: 0.0016\n",
      "Epoch 87/100\n",
      "38/38 [==============================] - 5s 122ms/step - loss: 0.0018\n",
      "Epoch 88/100\n",
      "38/38 [==============================] - 5s 120ms/step - loss: 0.0017\n",
      "Epoch 89/100\n",
      "38/38 [==============================] - 5s 121ms/step - loss: 0.0016\n",
      "Epoch 90/100\n",
      "38/38 [==============================] - 5s 129ms/step - loss: 0.0014\n",
      "Epoch 91/100\n",
      "38/38 [==============================] - 4s 113ms/step - loss: 0.0017\n",
      "Epoch 92/100\n",
      "38/38 [==============================] - 5s 124ms/step - loss: 0.0015\n",
      "Epoch 93/100\n",
      "38/38 [==============================] - 5s 125ms/step - loss: 0.0016\n",
      "Epoch 94/100\n",
      "38/38 [==============================] - 5s 132ms/step - loss: 0.0015\n",
      "Epoch 95/100\n",
      "38/38 [==============================] - 5s 128ms/step - loss: 0.0017\n",
      "Epoch 96/100\n",
      "38/38 [==============================] - 5s 132ms/step - loss: 0.0015\n",
      "Epoch 97/100\n",
      "38/38 [==============================] - 5s 130ms/step - loss: 0.0015\n",
      "Epoch 98/100\n",
      "38/38 [==============================] - 5s 128ms/step - loss: 0.0016\n",
      "Epoch 99/100\n"
     ]
    },
    {
     "name": "stdout",
     "output_type": "stream",
     "text": [
      "38/38 [==============================] - 5s 129ms/step - loss: 0.0015\n",
      "Epoch 100/100\n",
      "38/38 [==============================] - 5s 131ms/step - loss: 0.0015\n"
     ]
    },
    {
     "data": {
      "text/plain": [
       "<tensorflow.python.keras.callbacks.History at 0x14bb08dec88>"
      ]
     },
     "execution_count": 43,
     "metadata": {},
     "output_type": "execute_result"
    }
   ],
   "source": [
    "regressor.fit(x_train,y_train,epochs=100,batch_size=32)"
   ]
  },
  {
   "cell_type": "code",
   "execution_count": 44,
   "metadata": {},
   "outputs": [],
   "source": [
    "dataset_test = pd.read_csv('Google_Stock_Price_Test.csv')"
   ]
  },
  {
   "cell_type": "code",
   "execution_count": 46,
   "metadata": {},
   "outputs": [],
   "source": [
    "real_stock_price=dataset_test.iloc[:,1:2].values"
   ]
  },
  {
   "cell_type": "code",
   "execution_count": 49,
   "metadata": {},
   "outputs": [
    {
     "data": {
      "text/html": [
       "<div>\n",
       "<style scoped>\n",
       "    .dataframe tbody tr th:only-of-type {\n",
       "        vertical-align: middle;\n",
       "    }\n",
       "\n",
       "    .dataframe tbody tr th {\n",
       "        vertical-align: top;\n",
       "    }\n",
       "\n",
       "    .dataframe thead th {\n",
       "        text-align: right;\n",
       "    }\n",
       "</style>\n",
       "<table border=\"1\" class=\"dataframe\">\n",
       "  <thead>\n",
       "    <tr style=\"text-align: right;\">\n",
       "      <th></th>\n",
       "      <th>Date</th>\n",
       "      <th>Open</th>\n",
       "      <th>High</th>\n",
       "      <th>Low</th>\n",
       "      <th>Close</th>\n",
       "      <th>Volume</th>\n",
       "    </tr>\n",
       "  </thead>\n",
       "  <tbody>\n",
       "    <tr>\n",
       "      <th>1253</th>\n",
       "      <td>12/23/2016</td>\n",
       "      <td>790.90</td>\n",
       "      <td>792.74</td>\n",
       "      <td>787.28</td>\n",
       "      <td>789.91</td>\n",
       "      <td>623,400</td>\n",
       "    </tr>\n",
       "    <tr>\n",
       "      <th>1254</th>\n",
       "      <td>12/27/2016</td>\n",
       "      <td>790.68</td>\n",
       "      <td>797.86</td>\n",
       "      <td>787.66</td>\n",
       "      <td>791.55</td>\n",
       "      <td>789,100</td>\n",
       "    </tr>\n",
       "    <tr>\n",
       "      <th>1255</th>\n",
       "      <td>12/28/2016</td>\n",
       "      <td>793.70</td>\n",
       "      <td>794.23</td>\n",
       "      <td>783.20</td>\n",
       "      <td>785.05</td>\n",
       "      <td>1,153,800</td>\n",
       "    </tr>\n",
       "    <tr>\n",
       "      <th>1256</th>\n",
       "      <td>12/29/2016</td>\n",
       "      <td>783.33</td>\n",
       "      <td>785.93</td>\n",
       "      <td>778.92</td>\n",
       "      <td>782.79</td>\n",
       "      <td>744,300</td>\n",
       "    </tr>\n",
       "    <tr>\n",
       "      <th>1257</th>\n",
       "      <td>12/30/2016</td>\n",
       "      <td>782.75</td>\n",
       "      <td>782.78</td>\n",
       "      <td>770.41</td>\n",
       "      <td>771.82</td>\n",
       "      <td>1,770,000</td>\n",
       "    </tr>\n",
       "  </tbody>\n",
       "</table>\n",
       "</div>"
      ],
      "text/plain": [
       "            Date    Open    High     Low   Close     Volume\n",
       "1253  12/23/2016  790.90  792.74  787.28  789.91    623,400\n",
       "1254  12/27/2016  790.68  797.86  787.66  791.55    789,100\n",
       "1255  12/28/2016  793.70  794.23  783.20  785.05  1,153,800\n",
       "1256  12/29/2016  783.33  785.93  778.92  782.79    744,300\n",
       "1257  12/30/2016  782.75  782.78  770.41  771.82  1,770,000"
      ]
     },
     "execution_count": 49,
     "metadata": {},
     "output_type": "execute_result"
    }
   ],
   "source": [
    "dataset_train.tail()"
   ]
  },
  {
   "cell_type": "code",
   "execution_count": 50,
   "metadata": {},
   "outputs": [],
   "source": [
    "dataset_total = pd.concat((dataset_train['Open'], dataset_test['Open']), axis = 0)\n",
    "inputs = dataset_total[len(dataset_total) - len(dataset_test) - 60:].values"
   ]
  },
  {
   "cell_type": "code",
   "execution_count": 55,
   "metadata": {},
   "outputs": [],
   "source": [
    "inputs = inputs.reshape(-1,1)"
   ]
  },
  {
   "cell_type": "code",
   "execution_count": 59,
   "metadata": {},
   "outputs": [],
   "source": [
    "inputs = mm.transform(inputs)"
   ]
  },
  {
   "cell_type": "code",
   "execution_count": 60,
   "metadata": {},
   "outputs": [],
   "source": [
    "X_test = []\n",
    "for i in range(60, 80):\n",
    "    X_test.append(inputs[i-60:i, 0])\n",
    "X_test = np.array(X_test)\n",
    "X_test = np.reshape(X_test, (X_test.shape[0], X_test.shape[1], 1))"
   ]
  },
  {
   "cell_type": "code",
   "execution_count": 62,
   "metadata": {},
   "outputs": [],
   "source": [
    "predicted_stock_price = regressor.predict(X_test)\n",
    "predicted_stock_price = mm.inverse_transform(predicted_stock_price)"
   ]
  },
  {
   "cell_type": "code",
   "execution_count": 63,
   "metadata": {},
   "outputs": [
    {
     "data": {
      "image/png": "[encoded data removed]",
      "text/plain": [
       "<Figure size 432x288 with 1 Axes>"
      ]
     },
     "metadata": {
      "needs_background": "light"
     },
     "output_type": "display_data"
    }
   ],
   "source": [
    "plt.plot(real_stock_price, color = 'red', label = 'Real Google Stock Price')\n",
    "plt.plot(predicted_stock_price, color = 'blue', label = 'Predicted Google Stock Price')\n",
    "plt.title('Google Stock Price Prediction')\n",
    "plt.xlabel('Time')\n",
    "plt.ylabel('Google Stock Price')\n",
    "plt.legend()\n",
    "plt.show()"
   ]
  },
  {
   "cell_type": "code",
   "execution_count": null,
   "metadata": {},
   "outputs": [],
   "source": []
  }
 ],
 "metadata": {
  "kernelspec": {
   "display_name": "Python 3",
   "language": "python",
   "name": "python3"
  },
  "language_info": {
   "codemirror_mode": {
    "name": "ipython",
    "version": 3
   },
   "file_extension": ".py",
   "mimetype": "text/x-python",
   "name": "python",
   "nbconvert_exporter": "python",
   "pygments_lexer": "ipython3",
   "version": "3.6.10"
  }
 },
 "nbformat": 4,
 "nbformat_minor": 4
}
